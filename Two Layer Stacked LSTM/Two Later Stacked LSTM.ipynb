{
 "cells": [
  {
   "cell_type": "markdown",
   "metadata": {
    "deletable": true,
    "editable": true
   },
   "source": [
    "# <span style=\"color:green\"> 2 Layer Stacked LSTM ON 8*8 MNIST DATASET TO PREDICT TEN CLASS"
   ]
  },
  {
   "cell_type": "markdown",
   "metadata": {
    "deletable": true,
    "editable": true
   },
   "source": [
    "\n",
    "### <span style=\"color:blue\">Its a dynamic sequence and batch Two layer stacked LSTM . This is created with tensorflow scan and map higher ops!!!! \n",
    "###  <span style=\"color:blue\">This is a base Two layer stacked LSTM which can be used to create stacked Neural Stack Machine, Neural Turing Machine and  RNN-EM and so on!"
   ]
  },
  {
   "cell_type": "markdown",
   "metadata": {
    "deletable": true,
    "editable": true
   },
   "source": [
    "# Importing Libraries"
   ]
  },
  {
   "cell_type": "code",
   "execution_count": 1,
   "metadata": {
    "collapsed": false,
    "deletable": true,
    "editable": true
   },
   "outputs": [
    {
     "name": "stderr",
     "output_type": "stream",
     "text": [
      "/home/jli183/tensorflow/local/lib/python2.7/site-packages/sklearn/cross_validation.py:44: DeprecationWarning: This module was deprecated in version 0.18 in favor of the model_selection module into which all the refactored classes and functions are moved. Also note that the interface of the new CV iterators are different from that of this module. This module will be removed in 0.20.\n",
      "  \"This module will be removed in 0.20.\", DeprecationWarning)\n"
     ]
    }
   ],
   "source": [
    "import numpy as np\n",
    "import tensorflow as tf\n",
    "from sklearn import datasets\n",
    "from sklearn.cross_validation import train_test_split\n",
    "import pylab as pl\n",
    "from IPython import display\n",
    "import sys\n",
    "%matplotlib inline"
   ]
  },
  {
   "cell_type": "markdown",
   "metadata": {
    "deletable": true,
    "editable": true
   },
   "source": [
    "# STACKED LSTM class and functions"
   ]
  },
  {
   "cell_type": "code",
   "execution_count": 2,
   "metadata": {
    "collapsed": false,
    "deletable": true,
    "editable": true
   },
   "outputs": [],
   "source": [
    "class LSTM_cell(object):\n",
    "\n",
    "    \"\"\"\n",
    "    LSTM cell object which takes 3 arguments for initialization.\n",
    "    input_size = Input Vector size\n",
    "    hidden_layer_size = Hidden layer size\n",
    "    target_size = Output vector size\n",
    "\n",
    "    \"\"\"\n",
    "\n",
    "    def __init__(self, input_size, hidden_layer_size, target_size):\n",
    "\n",
    "        # Initialization of given values\n",
    "        self.input_size = input_size\n",
    "        self.hidden_layer_size = hidden_layer_size\n",
    "        self.target_size = target_size\n",
    "\n",
    "        \n",
    "        # Weights and Bias for input and hidden tensor\n",
    "        self.Wi_l1 = tf.Variable(tf.truncated_normal(\n",
    "            [self.input_size, self.hidden_layer_size]))\n",
    "        self.Ui_l1 = tf.Variable(tf.truncated_normal(\n",
    "            [self.hidden_layer_size, self.hidden_layer_size]))\n",
    "        self.bi_l1 = tf.Variable(tf.truncated_normal([self.hidden_layer_size]))\n",
    "\n",
    "        \n",
    "        self.Wf_l1 = tf.Variable(tf.truncated_normal(\n",
    "            [self.input_size, self.hidden_layer_size]))\n",
    "        self.Uf_l1 = tf.Variable(tf.truncated_normal(\n",
    "            [self.hidden_layer_size, self.hidden_layer_size]))\n",
    "        self.bf_l1 = tf.Variable(tf.truncated_normal([self.hidden_layer_size]))        \n",
    "        \n",
    "        \n",
    "        self.Wog_l1 = tf.Variable(tf.truncated_normal(\n",
    "            [self.input_size, self.hidden_layer_size]))\n",
    "        self.Uog_l1 = tf.Variable(tf.truncated_normal(\n",
    "            [self.hidden_layer_size, self.hidden_layer_size]))\n",
    "        self.bog_l1 = tf.Variable(tf.truncated_normal([self.hidden_layer_size]))        \n",
    "        \n",
    "        \n",
    "        self.Wc_l1 = tf.Variable(tf.truncated_normal(\n",
    "            [self.input_size, self.hidden_layer_size]))\n",
    "        self.Uc_l1 = tf.Variable(tf.truncated_normal(\n",
    "            [self.hidden_layer_size, self.hidden_layer_size]))\n",
    "        self.bc_l1 = tf.Variable(tf.truncated_normal([self.hidden_layer_size]))        \n",
    "\n",
    "        \n",
    "\n",
    "        \n",
    "        #Weights for layer 2\n",
    "        self.Wi_l2 = tf.Variable(tf.truncated_normal(\n",
    "            [self.hidden_layer_size, self.hidden_layer_size]))\n",
    "        self.Ui_l2 = tf.Variable(tf.truncated_normal(\n",
    "            [self.hidden_layer_size, self.hidden_layer_size]))\n",
    "        self.bi_l2 = tf.Variable(tf.truncated_normal([self.hidden_layer_size]))\n",
    "\n",
    "        \n",
    "        self.Wf_l2 = tf.Variable(tf.truncated_normal(\n",
    "            [self.hidden_layer_size, self.hidden_layer_size]))\n",
    "        self.Uf_l2 = tf.Variable(tf.truncated_normal(\n",
    "            [self.hidden_layer_size, self.hidden_layer_size]))\n",
    "        self.bf_l2 = tf.Variable(tf.truncated_normal([self.hidden_layer_size]))        \n",
    "        \n",
    "        \n",
    "        self.Wog_l2 = tf.Variable(tf.truncated_normal(\n",
    "            [self.hidden_layer_size, self.hidden_layer_size]))\n",
    "        self.Uog_l2 = tf.Variable(tf.truncated_normal(\n",
    "            [self.hidden_layer_size, self.hidden_layer_size]))\n",
    "        self.bog_l2 = tf.Variable(tf.truncated_normal([self.hidden_layer_size]))        \n",
    "        \n",
    "        \n",
    "        self.Wc_l2 = tf.Variable(tf.truncated_normal(\n",
    "            [self.hidden_layer_size, self.hidden_layer_size]))\n",
    "        self.Uc_l2 = tf.Variable(tf.truncated_normal(\n",
    "            [self.hidden_layer_size, self.hidden_layer_size]))\n",
    "        self.bc_l2 = tf.Variable(tf.truncated_normal([self.hidden_layer_size]))        \n",
    "        \n",
    "        \n",
    "        \n",
    "        \n",
    "        # Weights for output layers\n",
    "        self.Wo = tf.Variable(tf.truncated_normal(\n",
    "            [self.hidden_layer_size, self.target_size],mean=0,stddev=.1))\n",
    "        self.bo = tf.Variable(tf.truncated_normal([self.target_size],mean=0,stddev=.1))\n",
    "\n",
    "        # Placeholder for input vector with shape[batch, seq, embeddings]\n",
    "        self._inputs = tf.placeholder(tf.float32,\n",
    "                                      shape=[None, None, self.input_size],\n",
    "                                      name='inputs')\n",
    "\n",
    "        # Processing inputs to work with scan function\n",
    "        self.processed_input = process_batch_input_for_RNN(self._inputs)\n",
    "\n",
    "        '''\n",
    "        Initial hidden state's shape is [1,self.hidden_layer_size]\n",
    "        In First time stamp, we are doing dot product with weights to\n",
    "        get the shape of [batch_size, self.hidden_layer_size].\n",
    "        For this dot product tensorflow use broadcasting. But during\n",
    "        Back propagation a low level error occurs.\n",
    "        So to solve the problem it was needed to initialize initial\n",
    "        hiddden state of size [batch_size, self.hidden_layer_size].\n",
    "        So here is a little hack !!!! Getting the same shaped\n",
    "        initial hidden state of zeros.\n",
    "        '''\n",
    "\n",
    "        self.initial_hidden = self._inputs[:, 0, :]\n",
    "        self.initial_hidden= tf.matmul(\n",
    "            self.initial_hidden, tf.zeros([input_size, hidden_layer_size]))\n",
    "        \n",
    "        \n",
    "        self.initial_hidden=tf.stack([self.initial_hidden,self.initial_hidden,self.initial_hidden,self.initial_hidden])\n",
    "    # Function for LSTM cell.\n",
    "    def Lstm(self, previous_hidden_memory_tuple, x):\n",
    "        \"\"\"\n",
    "        This function takes previous hidden state and memory tuple with input and\n",
    "        outputs current hidden state.\n",
    "        \"\"\"\n",
    "        \n",
    "        previous_hidden_state_l1,c_prev_l1,previous_hidden_state_l2,c_prev_l2=tf.unstack(previous_hidden_memory_tuple)\n",
    "        \n",
    "        #Input Gate\n",
    "        i_l1= tf.sigmoid(\n",
    "            tf.matmul(x,self.Wi_l1)+tf.matmul(previous_hidden_state_l1,self.Ui_l1) + self.bi_l1 \n",
    "        )\n",
    "        \n",
    "        #Forget Gate\n",
    "        f_l1= tf.sigmoid(\n",
    "            tf.matmul(x,self.Wf_l1)+tf.matmul(previous_hidden_state_l1,self.Uf_l1) + self.bf_l1 \n",
    "        )\n",
    "        \n",
    "        #Output Gate\n",
    "        o_l1= tf.sigmoid(\n",
    "            tf.matmul(x,self.Wog_l1)+tf.matmul(previous_hidden_state_l1,self.Uog_l1) + self.bog_l1\n",
    "        )\n",
    "        \n",
    "        #New Memory Cell\n",
    "        c__l1= tf.nn.tanh(\n",
    "            tf.matmul(x,self.Wc_l1)+tf.matmul(previous_hidden_state_l1,self.Uc_l1) + self.bc_l1 \n",
    "        ) \n",
    "        \n",
    "        #Final Memory cell\n",
    "        c_l1= f_l1*c_prev_l1 + i_l1*c__l1\n",
    "        \n",
    "        #Current Hidden state\n",
    "        current_hidden_state_l1 = o_l1*tf.nn.tanh(c_l1)\n",
    "\n",
    "\n",
    "        \n",
    "        \n",
    "        \n",
    "        #Input Gate for layer 2\n",
    "        i_l2= tf.sigmoid(\n",
    "            tf.matmul(current_hidden_state_l1,self.Wi_l2)+tf.matmul(previous_hidden_state_l2,self.Ui_l2) + self.bi_l2 \n",
    "        )\n",
    "        \n",
    "        #Forget Gate for layer 2\n",
    "        f_l2= tf.sigmoid(\n",
    "            tf.matmul(current_hidden_state_l1,self.Wf_l2)+tf.matmul(previous_hidden_state_l2,self.Uf_l2) + self.bf_l2 \n",
    "        )\n",
    "        \n",
    "        #Output Gate for layer 2\n",
    "        o_l2= tf.sigmoid(\n",
    "            tf.matmul(current_hidden_state_l1,self.Wog_l2)+tf.matmul(previous_hidden_state_l2,self.Uog_l2) + self.bog_l2\n",
    "        )\n",
    "        \n",
    "        #New Memory Cell for layer 2\n",
    "        c__l2= tf.nn.tanh(\n",
    "            tf.matmul(current_hidden_state_l1,self.Wc_l2)+tf.matmul(previous_hidden_state_l2,self.Uc_l2) + self.bc_l2\n",
    "        ) \n",
    "        \n",
    "        #Final Memory cell for layer 2\n",
    "        c_l2= f_l2*c_prev_l2 + i_l2*c__l2\n",
    "        \n",
    "        #Current Hidden state\n",
    "        current_hidden_state_l2 = o_l2*tf.nn.tanh(c_l2)        \n",
    "        \n",
    "        \n",
    "\n",
    "        return tf.stack([current_hidden_state_l1,c_l1,current_hidden_state_l2,c_l2])\n",
    "\n",
    "    # Function for getting all hidden state.\n",
    "    def get_states(self):\n",
    "        \"\"\"\n",
    "        Iterates through time/ sequence to get all hidden state\n",
    "        \"\"\"\n",
    "\n",
    "        # Getting all hidden state throuh time\n",
    "        all_hidden_states = tf.scan(self.Lstm,\n",
    "                                    self.processed_input,\n",
    "                                    initializer=self.initial_hidden,\n",
    "                                    name='states')\n",
    "        all_hidden_states=all_hidden_states[:,3,:,:]\n",
    "        \n",
    "        return all_hidden_states\n",
    "\n",
    "    # Function to get output from a hidden layer\n",
    "    def get_output(self, hidden_state):\n",
    "        \"\"\"\n",
    "        This function takes hidden state and returns output\n",
    "        \"\"\"\n",
    "        output = tf.nn.relu(tf.matmul(hidden_state, self.Wo) + self.bo)\n",
    "\n",
    "        return output\n",
    "\n",
    "    # Function for getting all output layers\n",
    "    def get_outputs(self):\n",
    "        \"\"\"\n",
    "        Iterating through hidden states to get outputs for all timestamp\n",
    "        \"\"\"\n",
    "        all_hidden_states = self.get_states()\n",
    "\n",
    "        all_outputs = tf.map_fn(self.get_output, all_hidden_states)\n",
    "\n",
    "        return all_outputs\n",
    "\n",
    "\n",
    "# Function to convert batch input data to use scan ops of tensorflow.\n",
    "def process_batch_input_for_RNN(batch_input):\n",
    "    \"\"\"\n",
    "    Process tensor of size [5,3,2] to [3,5,2]\n",
    "    \"\"\"\n",
    "    batch_input_ = tf.transpose(batch_input, perm=[2, 0, 1])\n",
    "    X = tf.transpose(batch_input_)\n",
    "\n",
    "    return X\n"
   ]
  },
  {
   "cell_type": "markdown",
   "metadata": {
    "deletable": true,
    "editable": true
   },
   "source": [
    "# Placeholder and initializers\n"
   ]
  },
  {
   "cell_type": "code",
   "execution_count": 3,
   "metadata": {
    "collapsed": true,
    "deletable": true,
    "editable": true
   },
   "outputs": [],
   "source": [
    "hidden_layer_size = 30\n",
    "input_size = 8\n",
    "target_size = 10"
   ]
  },
  {
   "cell_type": "code",
   "execution_count": 4,
   "metadata": {
    "collapsed": false,
    "deletable": true,
    "editable": true
   },
   "outputs": [],
   "source": [
    "y = tf.placeholder(tf.float32, shape=[None, target_size],name='inputs')"
   ]
  },
  {
   "cell_type": "markdown",
   "metadata": {
    "deletable": true,
    "editable": true
   },
   "source": [
    "# Models"
   ]
  },
  {
   "cell_type": "code",
   "execution_count": 5,
   "metadata": {
    "collapsed": true,
    "deletable": true,
    "editable": true
   },
   "outputs": [],
   "source": [
    "#Initializing rnn object\n",
    "rnn=LSTM_cell( input_size, hidden_layer_size, target_size)"
   ]
  },
  {
   "cell_type": "code",
   "execution_count": 6,
   "metadata": {
    "collapsed": false,
    "deletable": true,
    "editable": true
   },
   "outputs": [],
   "source": [
    "#Getting all outputs from rnn\n",
    "outputs = rnn.get_outputs()"
   ]
  },
  {
   "cell_type": "code",
   "execution_count": 7,
   "metadata": {
    "collapsed": true,
    "deletable": true,
    "editable": true
   },
   "outputs": [],
   "source": [
    "#Getting final output through indexing after reversing\n",
    "last_output = outputs[-1]"
   ]
  },
  {
   "cell_type": "code",
   "execution_count": 8,
   "metadata": {
    "collapsed": true,
    "deletable": true,
    "editable": true
   },
   "outputs": [],
   "source": [
    "#As rnn model output the final layer through Relu activation softmax is used for final output.\n",
    "output=tf.nn.softmax(last_output)"
   ]
  },
  {
   "cell_type": "code",
   "execution_count": 9,
   "metadata": {
    "collapsed": true,
    "deletable": true,
    "editable": true
   },
   "outputs": [],
   "source": [
    "#Computing the Cross Entropy loss \n",
    "cross_entropy = -tf.reduce_sum(y * tf.log(output))"
   ]
  },
  {
   "cell_type": "code",
   "execution_count": 10,
   "metadata": {
    "collapsed": false,
    "deletable": true,
    "editable": true
   },
   "outputs": [],
   "source": [
    "# Trainning with Adadelta Optimizer\n",
    "train_step = tf.train.AdadeltaOptimizer().minimize(cross_entropy)"
   ]
  },
  {
   "cell_type": "code",
   "execution_count": 11,
   "metadata": {
    "collapsed": true,
    "deletable": true,
    "editable": true
   },
   "outputs": [],
   "source": [
    "#Calculatio of correct prediction and accuracy\n",
    "correct_prediction = tf.equal(tf.argmax(y,1), tf.argmax(output,1))\n",
    "accuracy = (tf.reduce_mean(tf.cast(correct_prediction, tf.float32)))*100"
   ]
  },
  {
   "cell_type": "markdown",
   "metadata": {
    "deletable": true,
    "editable": true
   },
   "source": [
    "# Dataset Preparation"
   ]
  },
  {
   "cell_type": "code",
   "execution_count": 12,
   "metadata": {
    "collapsed": true,
    "deletable": true,
    "editable": true
   },
   "outputs": [],
   "source": [
    "#Function to get on hot\n",
    "def get_on_hot(number):\n",
    "    on_hot=[0]*10\n",
    "    on_hot[number]=1\n",
    "    return on_hot\n",
    "    "
   ]
  },
  {
   "cell_type": "code",
   "execution_count": 13,
   "metadata": {
    "collapsed": false,
    "deletable": true,
    "editable": true
   },
   "outputs": [],
   "source": [
    "#Using Sklearn MNIST dataset.\n",
    "digits = datasets.load_digits()\n",
    "X=digits.images\n",
    "Y_=digits.target\n",
    "\n",
    "Y=map(get_on_hot,Y_)"
   ]
  },
  {
   "cell_type": "code",
   "execution_count": 14,
   "metadata": {
    "collapsed": false,
    "deletable": true,
    "editable": true
   },
   "outputs": [],
   "source": [
    "#Getting Train and test Dataset\n",
    "X_train, X_test, y_train, y_test = train_test_split(X, Y, test_size=0.22, random_state=42)\n",
    "\n",
    "#Cuttting for simple iteration\n",
    "X_train=X_train[:1400]\n",
    "y_train=y_train[:1400]"
   ]
  },
  {
   "cell_type": "code",
   "execution_count": 15,
   "metadata": {
    "collapsed": false,
    "deletable": true,
    "editable": true
   },
   "outputs": [
    {
     "name": "stdout",
     "output_type": "stream",
     "text": [
      "WARNING:tensorflow:From <ipython-input-15-d5415974c3de>:2: initialize_all_variables (from tensorflow.python.ops.variables) is deprecated and will be removed after 2017-03-02.\n",
      "Instructions for updating:\n",
      "Use `tf.global_variables_initializer` instead.\n"
     ]
    }
   ],
   "source": [
    "sess=tf.InteractiveSession()\n",
    "sess.run(tf.initialize_all_variables())"
   ]
  },
  {
   "cell_type": "code",
   "execution_count": 16,
   "metadata": {
    "collapsed": false,
    "deletable": true,
    "editable": true,
    "scrolled": false
   },
   "outputs": [
    {
     "data": {
      "image/png": "[encoded data removed]",
      "text/plain": [
       "<matplotlib.figure.Figure at 0x7ff85ce1b810>"
      ]
     },
     "metadata": {},
     "output_type": "display_data"
    },
    {
     "name": "stdout",
     "output_type": "stream",
     "text": [
      "Iteration: 199 Loss: 234.319 Train Accuracy: 10.3571 Test Accuracy: 13.8889\n"
     ]
    },
    {
     "data": {
      "image/png": "[encoded data removed]",
      "text/plain": [
       "<matplotlib.figure.Figure at 0x7ff85ce1b810>"
      ]
     },
     "metadata": {},
     "output_type": "display_data"
    }
   ],
   "source": [
    "#Iterations to do trainning\n",
    "for epoch in range(200):\n",
    "    \n",
    "    start=0\n",
    "    end=100\n",
    "    for i in range(14):\n",
    "        \n",
    "        X=X_train[start:end]\n",
    "        Y=y_train[start:end]\n",
    "        start=end\n",
    "        end=start+100\n",
    "        sess.run(train_step,feed_dict={rnn._inputs:X, y:Y})\n",
    "    \n",
    "    Loss=str(sess.run(cross_entropy,feed_dict={rnn._inputs:X, y:Y}))\n",
    "    Train_accuracy=str(sess.run(accuracy,feed_dict={rnn._inputs:X_train, y:y_train}))\n",
    "    Test_accuracy=str(sess.run(accuracy,feed_dict={rnn._inputs:X_test, y:y_test}))\n",
    "    \n",
    "\n",
    "    pl.plot([epoch],Loss,'b.',)\n",
    "    pl.plot([epoch],Train_accuracy,'r*',)\n",
    "    pl.plot([epoch],Test_accuracy,'g+')\n",
    "    display.clear_output(wait=True)\n",
    "    display.display(pl.gcf())   \n",
    "    \n",
    "    sys.stdout.flush()\n",
    "    print(\"\\rIteration: %s Loss: %s Train Accuracy: %s Test Accuracy: %s\"%(epoch,Loss,Train_accuracy,Test_accuracy)),\n",
    "    sys.stdout.flush()\n",
    "\n"
   ]
  },
  {
   "cell_type": "code",
   "execution_count": null,
   "metadata": {
    "collapsed": true,
    "deletable": true,
    "editable": true
   },
   "outputs": [],
   "source": []
  }
 ],
 "metadata": {
  "kernelspec": {
   "display_name": "Python 2",
   "language": "python",
   "name": "python2"
  },
  "language_info": {
   "codemirror_mode": {
    "name": "ipython",
    "version": 2
   },
   "file_extension": ".py",
   "mimetype": "text/x-python",
   "name": "python",
   "nbconvert_exporter": "python",
   "pygments_lexer": "ipython2",
   "version": "2.7.6"
  }
 },
 "nbformat": 4,
 "nbformat_minor": 0
}
